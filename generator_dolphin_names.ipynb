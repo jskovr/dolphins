{
 "cells": [
  {
   "cell_type": "code",
   "execution_count": 1,
   "id": "a1b112c8-5c02-40b5-ba08-01dc0f018e1d",
   "metadata": {},
   "outputs": [],
   "source": [
    "import random\n",
    "\n",
    "\"\"\"\n",
    "Purpose: \n",
    "Import the .dat files of girl and boy names\n",
    "Create name generators for each\n",
    "Create instances of classes using the generators to generate\n",
    "names and genders\n",
    "\"\"\"\n",
    "\n",
    "# List of boy names\n",
    "file = open(\"boy_names.dat\", 'r')\n",
    "lines = file.readlines()\n",
    "file.close()\n",
    "boy_names = [name.strip(\"\\n\") for name in lines]\n",
    "\n",
    "# List of girl names\n",
    "file = open(\"girl_names.dat\", 'r')\n",
    "lines = file.readlines()\n",
    "file.close()\n",
    "girl_names = [name.strip(\"\\n\") for name in lines]\n",
    "\n",
    "def name_generator(sex):\n",
    "\tif sex == \"male\":\n",
    "\t\tfor name in boy_names:\n",
    "\t\t\tboy_names.remove(name)\n",
    "\t\t\tyield name\n",
    "\telif sex == \"female\":\n",
    "\t\tfor name in girl_names:\n",
    "\t\t\tgirl_names.remove(name)\n",
    "\t\t\tyield name\n",
    "\n",
    "gen_boy_names = name_generator(\"male\")\n",
    "gen_girl_names = name_generator(\"female\")"
   ]
  },
  {
   "cell_type": "code",
   "execution_count": 251,
   "id": "71abd4f6-a043-4215-a46a-40202489918d",
   "metadata": {},
   "outputs": [
    {
     "name": "stdout",
     "output_type": "stream",
     "text": [
      "Ajitesh\n"
     ]
    }
   ],
   "source": [
    "print(next(gen_boy_names))"
   ]
  }
 ],
 "metadata": {
  "kernelspec": {
   "display_name": "Python 3 (ipykernel)",
   "language": "python",
   "name": "python3"
  },
  "language_info": {
   "codemirror_mode": {
    "name": "ipython",
    "version": 3
   },
   "file_extension": ".py",
   "mimetype": "text/x-python",
   "name": "python",
   "nbconvert_exporter": "python",
   "pygments_lexer": "ipython3",
   "version": "3.9.12"
  }
 },
 "nbformat": 4,
 "nbformat_minor": 5
}
